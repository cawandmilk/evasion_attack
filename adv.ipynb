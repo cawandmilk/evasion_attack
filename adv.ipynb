{
 "cells": [
  {
   "cell_type": "markdown",
   "id": "17595a32-34f1-4ae3-ae85-f351d16a1a2c",
   "metadata": {},
   "source": [
    "# **Default Setting**"
   ]
  },
  {
   "cell_type": "code",
   "execution_count": 4,
   "id": "78f4ff3a-b593-4b28-8681-a2fa819f5489",
   "metadata": {},
   "outputs": [
    {
     "name": "stdout",
     "output_type": "stream",
     "text": [
      "VERSION:\n",
      "TensorFlow: 2.5.0\n",
      "CleverHans: 4.0.0-edc15c6ec93c96562523dc42ae33c9e7\n"
     ]
    }
   ],
   "source": [
    "import tensorflow as tf\n",
    "import cleverhans\n",
    "\n",
    "import datetime\n",
    "import json\n",
    "import pprint\n",
    "\n",
    "import numpy as np\n",
    "import pandas as pd\n",
    "\n",
    "from matplotlib import pyplot as plt\n",
    "from pathlib import Path\n",
    "\n",
    "from evasion_attack.attack import AttackIdentificationModel, AttackVerificationModel, save_npz, load_npz\n",
    "from evasion_attack.centroids import Centroids\n",
    "from evasion_attack.checkpoints import Checkpoints\n",
    "from evasion_attack.dataset import IdentificationDataLoader, VerificationDataLoader\n",
    "from evasion_attack.evaluate import EvaluateIdentificationModel, EvaluateVerificationModel\n",
    "\n",
    "from evasion_attack.models.preprocess import Preprocessing\n",
    "from evasion_attack.models.resnet import embedding_model\n",
    "from evasion_attack.models.trainer import AngularPrototypicalModel\n",
    "\n",
    "print(\"VERSION:\")\n",
    "print(f\"TensorFlow: {tf.__version__}\")\n",
    "print(f\"CleverHans: {cleverhans.__version__}\")"
   ]
  },
  {
   "cell_type": "code",
   "execution_count": 2,
   "id": "1af28c5b-3947-4588-90cc-0ae11fc88830",
   "metadata": {},
   "outputs": [
    {
     "name": "stdout",
     "output_type": "stream",
     "text": [
      "Sun Aug 22 18:02:38 2021       \n",
      "+-----------------------------------------------------------------------------+\n",
      "| NVIDIA-SMI 470.57.02    Driver Version: 470.57.02    CUDA Version: 11.4     |\n",
      "|-------------------------------+----------------------+----------------------+\n",
      "| GPU  Name        Persistence-M| Bus-Id        Disp.A | Volatile Uncorr. ECC |\n",
      "| Fan  Temp  Perf  Pwr:Usage/Cap|         Memory-Usage | GPU-Util  Compute M. |\n",
      "|                               |                      |               MIG M. |\n",
      "|===============================+======================+======================|\n",
      "|   0  NVIDIA GeForce ...  Off  | 00000000:0A:00.0  On |                  N/A |\n",
      "|  0%   41C    P8    25W / 220W |    360MiB /  7979MiB |     10%      Default |\n",
      "|                               |                      |                  N/A |\n",
      "+-------------------------------+----------------------+----------------------+\n",
      "                                                                               \n",
      "+-----------------------------------------------------------------------------+\n",
      "| Processes:                                                                  |\n",
      "|  GPU   GI   CI        PID   Type   Process name                  GPU Memory |\n",
      "|        ID   ID                                                   Usage      |\n",
      "|=============================================================================|\n",
      "|    0   N/A  N/A      1010      G   /usr/lib/xorg/Xorg                 35MiB |\n",
      "|    0   N/A  N/A      1995      G   /usr/lib/xorg/Xorg                150MiB |\n",
      "|    0   N/A  N/A      2122      G   /usr/bin/gnome-shell               37MiB |\n",
      "|    0   N/A  N/A      2470      G   ...AAAAAAAAA= --shared-files       82MiB |\n",
      "|    0   N/A  N/A      4747      G   ...AAAAAAAAA= --shared-files       40MiB |\n",
      "+-----------------------------------------------------------------------------+\n",
      "              total        used        free      shared  buff/cache   available\n",
      "Mem:           31Gi       5.0Gi       5.4Gi        86Mi        20Gi        25Gi\n",
      "Swap:         2.0Gi       1.0Gi       1.0Gi\n"
     ]
    }
   ],
   "source": [
    "!nvidia-smi; free -h"
   ]
  },
  {
   "cell_type": "code",
   "execution_count": 22,
   "id": "04588f64-acf2-479b-bc4a-509e432de1ce",
   "metadata": {},
   "outputs": [],
   "source": [
    "class LoadConfig:\n",
    "    def __init__(self, conf: dict):\n",
    "        for key, value in conf.items():\n",
    "            setattr(self, key, value)\n",
    "            \n",
    "with open(\"config.json\", \"r\") as f:\n",
    "    config = LoadConfig(json.load(f))\n",
    "    \n",
    "config.attack_type = [\"fgm\", \"pgd\"]\n",
    "config.epsilon = [1e-3, 1e-2, 1e-1]"
   ]
  },
  {
   "cell_type": "code",
   "execution_count": 23,
   "id": "06fc2e28-080b-4283-aa6b-92f46dd4cf11",
   "metadata": {},
   "outputs": [
    {
     "name": "stdout",
     "output_type": "stream",
     "text": [
      "{   'alpha': 0.05,\n",
      "    'attack_type': ['fgm', 'pgd'],\n",
      "    'buffer_size': 150000,\n",
      "    'checkpoint_callback': True,\n",
      "    'ckpt_dir': 'ckpt',\n",
      "    'clear_assets': True,\n",
      "    'csv_logger_callback': True,\n",
      "    'data_path': 'data',\n",
      "    'embedding_dim': 512,\n",
      "    'epochs': 80,\n",
      "    'epsilon': [0.001, 0.01, 0.1],\n",
      "    'file_num_per_tfrecord': 5000,\n",
      "    'global_batch_size': 64,\n",
      "    'iden_tfrec_folder': 'data/tfrecord/iden',\n",
      "    'init_lr': 0.001,\n",
      "    'learning_rate_schedular_callback': True,\n",
      "    'log_dir': 'logs',\n",
      "    'model_name': 'AngularPrototypicalModel-Identification-20210822-170529',\n",
      "    'model_type': 'iden',\n",
      "    'num_classes_for_iden': 1251,\n",
      "    'num_classes_for_veri': 1211,\n",
      "    'num_iden_ts_ds': 8251,\n",
      "    'num_slice': 10,\n",
      "    'num_veri_ts_ds': 37720,\n",
      "    'rectify': True,\n",
      "    'result_path': 'result',\n",
      "    'sample_rate': 16000,\n",
      "    'seed': 42,\n",
      "    'slice_len_sec': 2,\n",
      "    'tensorboard_callback': True,\n",
      "    'tr_folder': 'data/vox1_dev_wav/wav',\n",
      "    'train_model': False,\n",
      "    'ts_folder': 'data/vox1_test_wav/wav',\n",
      "    'veri_tfrec_folder': 'data/tfrecord/veri',\n",
      "    'weight_decay': 0.0005}\n"
     ]
    }
   ],
   "source": [
    "def display(config):\n",
    "    pprint.PrettyPrinter(indent=4).pprint(config)\n",
    "\n",
    "display(vars(config))"
   ]
  },
  {
   "cell_type": "markdown",
   "id": "a37eb638-1ece-46ae-8945-1564cd1d41ff",
   "metadata": {},
   "source": [
    "# **Load Dataset**"
   ]
  },
  {
   "cell_type": "code",
   "execution_count": 24,
   "id": "ffe1346f-ac0d-413f-859e-a3c8670e752b",
   "metadata": {},
   "outputs": [],
   "source": [
    "def build_dataset(config, model_type, random_slice, global_batch_size):\n",
    "    \"\"\" Build dataset for identification or verification task tricky.\n",
    "    \"\"\"\n",
    "    assert config.model_type.lower() in [\"iden\", \"veri\"]\n",
    "\n",
    "    def _build_iden_dataset():\n",
    "        \"\"\" Build dataset for identification task.\n",
    "        \"\"\"\n",
    "        ## Load tfrecords and build dataset.\n",
    "        ts_filenames = sorted(list(Path(config.iden_tfrec_folder).glob(\"ts_*.tfrec\")))\n",
    "\n",
    "        ts_ds = IdentificationDataLoader.get_dataset(\n",
    "            tfrecord_filenames=ts_filenames,\n",
    "            cache=False,\n",
    "            repeats=False,\n",
    "            random_slice=random_slice,\n",
    "            slice_len=config.slice_len_sec * config.sample_rate,\n",
    "            num_slice=config.num_slice,\n",
    "            shuffle=False,\n",
    "            buffer_size=config.buffer_size,\n",
    "            global_batch_size=global_batch_size,\n",
    "        )\n",
    "\n",
    "        return ts_ds\n",
    "    \n",
    "    def _build_veri_dataset():\n",
    "        \"\"\" Build dataset for verification task.\n",
    "        \"\"\"\n",
    "        ## Load tfrecords and build dataset.\n",
    "        ts_filenames = sorted(list(Path(config.veri_tfrec_folder).glob(\"ts_*.tfrec\")))\n",
    "\n",
    "        ts_ds = VerificationDataLoader.get_dataset(\n",
    "            tfrecord_filenames=ts_filenames,\n",
    "            cache=False,\n",
    "            repeats=False,\n",
    "            random_slice=random_slice,\n",
    "            slice_len=config.slice_len_sec * config.sample_rate,\n",
    "            num_slice=config.num_slice,\n",
    "            shuffle=False,\n",
    "            buffer_size=config.buffer_size,\n",
    "            global_batch_size=global_batch_size,\n",
    "        )\n",
    "\n",
    "        return ts_ds\n",
    "\n",
    "    ts_ds = _build_iden_dataset() if model_type == \"iden\" else _build_veri_dataset()\n",
    "\n",
    "    ## Priht the shapes.\n",
    "    print(f\"ts_ds: {ts_ds}\")\n",
    "\n",
    "    return ts_ds"
   ]
  },
  {
   "cell_type": "code",
   "execution_count": 25,
   "id": "076f1174-b4c8-48d9-bad2-a2fb081ec66f",
   "metadata": {},
   "outputs": [
    {
     "name": "stdout",
     "output_type": "stream",
     "text": [
      "ts_ds: <PrefetchDataset shapes: ((None, None), (None,)), types: (tf.float32, tf.int64)>\n"
     ]
    }
   ],
   "source": [
    "## Sample.\n",
    "ts_ds = build_dataset(config, model_type=\"iden\", random_slice=True, global_batch_size=config.global_batch_size)"
   ]
  },
  {
   "cell_type": "markdown",
   "id": "309a05ff-ad02-4851-ad1d-ccdf50387cfd",
   "metadata": {},
   "source": [
    "# **Restore the Latest Model**"
   ]
  },
  {
   "cell_type": "markdown",
   "id": "34b693fd-a022-4575-89c7-3b88be90b8dc",
   "metadata": {},
   "source": [
    "## **Build Model**"
   ]
  },
  {
   "cell_type": "code",
   "execution_count": 26,
   "id": "f71122de-a126-4f67-b5d0-fdb3fd8dc97e",
   "metadata": {},
   "outputs": [],
   "source": [
    "def build_model(config):\n",
    "    sample_rate_ms = int(config.sample_rate / 1_000)\n",
    "    num_classes = config.num_classes_for_iden if config.model_type.lower() == \"iden\" else config.num_classes_for_veri\n",
    "\n",
    "    assert config.model_type in [\"iden\", \"veri\"]\n",
    "    if config.model_type == \"iden\":\n",
    "        config.model_name = \"AngularPrototypicalModel-Identification\"\n",
    "    else:\n",
    "        config.model_name = \"AngularPrototypicalModel-Verification\"\n",
    "    config.model_name = f\"{config.model_name}-{datetime.datetime.now().strftime('%Y%m%d-%H%M%S')}\"\n",
    "\n",
    "    ## Define the parts.\n",
    "    header = Preprocessing(\n",
    "        frame_length=25 * sample_rate_ms,\n",
    "        frame_step=10 * sample_rate_ms,\n",
    "        fft_length=512,\n",
    "        pad_end=True,\n",
    "        num_mel_bins=64,\n",
    "        sample_rate=config.sample_rate,\n",
    "        lower_edge_hertz=0.,\n",
    "        upper_edge_hertz=8_000.,\n",
    "    )\n",
    "    emb_model = embedding_model(\n",
    "        input_shape=(config.slice_len_sec * config.sample_rate,),\n",
    "        num_classes=num_classes,\n",
    "        embedding_dim=config.embedding_dim,\n",
    "        preprocessing_fn=header,\n",
    "    )\n",
    "    centroids = Centroids(\n",
    "        num_classes=num_classes,\n",
    "        embedding_dim=config.embedding_dim,\n",
    "    )\n",
    "    model = AngularPrototypicalModel(\n",
    "        embedding_model=emb_model,\n",
    "        centroids=centroids,\n",
    "        name=config.model_name,\n",
    "    )\n",
    "\n",
    "    return model"
   ]
  },
  {
   "cell_type": "code",
   "execution_count": 27,
   "id": "97f34a4a-91b1-457e-a856-3ad52dc30eea",
   "metadata": {},
   "outputs": [
    {
     "name": "stdout",
     "output_type": "stream",
     "text": [
      "Model: \"AngularPrototypicalModel-Identification-20210822-180440\"\n",
      "_________________________________________________________________\n",
      "Layer (type)                 Output Shape              Param #   \n",
      "=================================================================\n",
      "model_1 (Functional)         (None, 512)               7440985   \n",
      "=================================================================\n",
      "Total params: 8,082,750\n",
      "Trainable params: 7,432,219\n",
      "Non-trainable params: 650,531\n",
      "_________________________________________________________________\n"
     ]
    }
   ],
   "source": [
    "model = build_model(config)\n",
    "\n",
    "model.build([config.global_batch_size, config.slice_len_sec * config.sample_rate])\n",
    "model.summary()"
   ]
  },
  {
   "cell_type": "markdown",
   "id": "96ef2c77-65b9-4077-96c4-0a1ab11a0832",
   "metadata": {},
   "source": [
    "## **Restore Latest Checkpoint**"
   ]
  },
  {
   "cell_type": "code",
   "execution_count": 28,
   "id": "2bdcc766-07fe-4437-9042-8f48754b0976",
   "metadata": {},
   "outputs": [],
   "source": [
    "def get_latest_model(config, model: tf.keras.Model):\n",
    "    \"\"\" Make clean and get latest model.\n",
    "    \"\"\"\n",
    "    Checkpoints.make_clean(\n",
    "        ckpt_dir=str(Path(config.ckpt_dir, config.model_type)),\n",
    "    )\n",
    "    latest_model = Checkpoints.load_latest_checkpoint(\n",
    "        ckpt_dir=str(Path(config.ckpt_dir, config.model_type)), \n",
    "        model=model,\n",
    "    )\n",
    "\n",
    "    return latest_model"
   ]
  },
  {
   "cell_type": "code",
   "execution_count": 29,
   "id": "19f94ba6-f35c-4816-90fb-1cdbce0894c9",
   "metadata": {},
   "outputs": [
    {
     "name": "stdout",
     "output_type": "stream",
     "text": [
      "Checkpoint folder ckpt/iden is now clean, 0.00MB free.\n",
      "Restored checkpoints: ckpt/iden/cp-067-0.2210.ckpt\n"
     ]
    }
   ],
   "source": [
    "## Make clean checkpoints and load latest version.\n",
    "latest_model = get_latest_model(config, model)"
   ]
  },
  {
   "cell_type": "markdown",
   "id": "897faf08-de3f-42fe-a2b9-49684050124a",
   "metadata": {},
   "source": [
    "# **Adversarial Attack**"
   ]
  },
  {
   "cell_type": "code",
   "execution_count": 14,
   "id": "50ad0285-1f27-4cfb-bbf9-eede8f7adf56",
   "metadata": {},
   "outputs": [
    {
     "name": "stdout",
     "output_type": "stream",
     "text": [
      "{   'iden-fixed': 8251,\n",
      "    'iden-random': 129,\n",
      "    'veri-fixed': 37720,\n",
      "    'veri-random': 590}\n"
     ]
    }
   ],
   "source": [
    "iden_ts_filenames = sorted(list(Path(config.iden_tfrec_folder).glob(\"ts_*.tfrec\")))\n",
    "veri_ts_filenames = sorted(list(Path(config.veri_tfrec_folder).glob(\"ts_*.tfrec\")))\n",
    "\n",
    "totals = {\n",
    "    \"iden-random\": int(np.ceil(sum([int(i.stem.split(\"_\")[-1]) for i in iden_ts_filenames]) / config.global_batch_size)),\n",
    "    \"iden-fixed\": config.num_iden_ts_ds,\n",
    "    \"veri-random\": int(np.ceil(sum([int(i.stem.split(\"_\")[-1]) for i in veri_ts_filenames]) / config.global_batch_size)),\n",
    "    \"veri-fixed\": config.num_veri_ts_ds,\n",
    "}\n",
    "\n",
    "display(totals)"
   ]
  },
  {
   "cell_type": "markdown",
   "id": "75f714c6-3068-4ec0-af21-d2da6bbdd2d0",
   "metadata": {},
   "source": [
    "## **Identification**"
   ]
  },
  {
   "cell_type": "markdown",
   "id": "5be0a875-1ace-4819-88d6-e8ce8ea78067",
   "metadata": {},
   "source": [
    "### **Random Sliced**"
   ]
  },
  {
   "cell_type": "code",
   "execution_count": null,
   "id": "37254e01-6c0c-4fbb-9bd0-80dde01ee8d2",
   "metadata": {},
   "outputs": [],
   "source": [
    "ts_ds = build_dataset(config, model_type=\"iden\", random_slice=True, global_batch_size=config.global_batch_size)"
   ]
  },
  {
   "cell_type": "code",
   "execution_count": null,
   "id": "52914e57-6a9e-4208-8d7a-6171b6f08bc3",
   "metadata": {},
   "outputs": [],
   "source": [
    "%%time\n",
    "for attack_type in config.attack_type:\n",
    "    for epsilon in config.epsilon:\n",
    "        assets = AttackIdentificationModel.attack_random_sliced_dataset(\n",
    "            latest_model=latest_model,\n",
    "            ds=ts_ds,\n",
    "            attack_type=attack_type,\n",
    "            epsilon=epsilon,\n",
    "            total=totals[\"iden-random\"],\n",
    "        )\n",
    "        save_npz(assets, save_dir=config.result_path)"
   ]
  },
  {
   "cell_type": "markdown",
   "id": "04baa8b5-9670-4f3c-8711-3e0034de4b9c",
   "metadata": {},
   "source": [
    "### **Fixed Sliced**"
   ]
  },
  {
   "cell_type": "code",
   "execution_count": 24,
   "id": "de8b9d25-0bc5-4057-8b88-2d4fca18b88d",
   "metadata": {},
   "outputs": [
    {
     "name": "stdout",
     "output_type": "stream",
     "text": [
      "ts_ds: <PrefetchDataset shapes: ((None,), ()), types: (tf.float32, tf.int64)>\n"
     ]
    }
   ],
   "source": [
    "ts_ds = build_dataset(config, model_type=\"iden\", random_slice=False, global_batch_size=None)"
   ]
  },
  {
   "cell_type": "code",
   "execution_count": null,
   "id": "47879292-3db6-4dcc-a61f-8c2f0d0b780d",
   "metadata": {},
   "outputs": [],
   "source": [
    "%%time\n",
    "for attack_type in config.attack_type:\n",
    "    for epsilon in config.epsilon:\n",
    "        assets = AttackIdentificationModel.attack_fixed_sliced_dataset(\n",
    "            latest_model=latest_model,\n",
    "            ds=ts_ds,\n",
    "            attack_type=attack_type,\n",
    "            epsilon=epsilon,\n",
    "            total=totals[\"iden-fixed\"],\n",
    "        )\n",
    "        save_npz(assets, save_dir=config.result_path)"
   ]
  },
  {
   "cell_type": "markdown",
   "id": "7c87c2b1-198f-4aa0-9310-ea0dd3e6240d",
   "metadata": {},
   "source": [
    "## **Verification**"
   ]
  },
  {
   "cell_type": "markdown",
   "id": "28ff88f5-c090-4a50-87a2-158e469265ad",
   "metadata": {},
   "source": [
    "### **Random Sliced**"
   ]
  },
  {
   "cell_type": "code",
   "execution_count": 24,
   "id": "009a1558-443f-4c4e-b2ae-d13e92ddbbe9",
   "metadata": {},
   "outputs": [
    {
     "name": "stdout",
     "output_type": "stream",
     "text": [
      "ts_ds: <PrefetchDataset shapes: ((None,), ()), types: (tf.float32, tf.int64)>\n"
     ]
    }
   ],
   "source": [
    "ts_ds = build_dataset(config, model_type=\"veri\", random_slice=True, global_batch_size=config.global_batch_size)"
   ]
  },
  {
   "cell_type": "code",
   "execution_count": null,
   "id": "c552fea6-13c0-4557-8ed6-9d9425b77963",
   "metadata": {},
   "outputs": [],
   "source": [
    "%%time\n",
    "for attack_type in config.attack_type:\n",
    "    for epsilon in config.epsilon:\n",
    "        assets = AttackVerificationModel.attack_random_sliced_dataset(\n",
    "            latest_model=latest_model,\n",
    "            ds=ts_ds,\n",
    "            attack_type=attack_type,\n",
    "            epsilon=epsilon,\n",
    "            total=totals[\"veri-random\"],\n",
    "        )\n",
    "        save_npz(assets, save_dir=config.result_path)"
   ]
  },
  {
   "cell_type": "markdown",
   "id": "f423459c-61df-4e6e-be92-1e388b4f7670",
   "metadata": {},
   "source": [
    "### **Fixed Sliced**"
   ]
  },
  {
   "cell_type": "code",
   "execution_count": 24,
   "id": "3e59a741-faeb-4a5d-8d6f-393e476fb658",
   "metadata": {},
   "outputs": [
    {
     "name": "stdout",
     "output_type": "stream",
     "text": [
      "ts_ds: <PrefetchDataset shapes: ((None,), ()), types: (tf.float32, tf.int64)>\n"
     ]
    }
   ],
   "source": [
    "ts_ds = build_dataset(config, model_type=\"veri\", random_slice=False, global_batch_size=None)"
   ]
  },
  {
   "cell_type": "code",
   "execution_count": null,
   "id": "af5cad92-e078-4308-a30f-ddb3677547f1",
   "metadata": {},
   "outputs": [],
   "source": [
    "# ## It may take too long time... :(\n",
    "# %%time\n",
    "# for attack_type in config.attack_type:\n",
    "#     for epsilon in config.epsilon:\n",
    "#         assets = AttackVerificationModel.attack_fixed_sliced_dataset(\n",
    "#             latest_model=latest_model,\n",
    "#             ds=ts_ds,\n",
    "#             attack_type=attack_type,\n",
    "#             epsilon=epsilon,\n",
    "#             total=totals[\"veri-fixed\"],\n",
    "#         )\n",
    "#         save_npz(assets, save_dir=config.result_path)"
   ]
  },
  {
   "cell_type": "code",
   "execution_count": null,
   "id": "f4037389-14d0-43c0-b432-7a14cbe649cb",
   "metadata": {},
   "outputs": [],
   "source": [
    "%%time\n",
    "for attack_type in list(config.attack_type[0]):\n",
    "    for epsilon in config.epsilon:\n",
    "        assets = AttackVerificationModel.attack_fixed_sliced_dataset(\n",
    "            latest_model=latest_model,\n",
    "            ds=ts_ds,\n",
    "            attack_type=attack_type,\n",
    "            epsilon=epsilon,\n",
    "            total=totals[\"veri-fixed\"],\n",
    "        )\n",
    "        save_npz(assets, save_dir=config.result_path)"
   ]
  },
  {
   "cell_type": "code",
   "execution_count": null,
   "id": "b950f41c-cee2-4218-a020-dbd8320f7ceb",
   "metadata": {},
   "outputs": [],
   "source": [
    "%%time\n",
    "for attack_type in list(config.attack_type[1]):\n",
    "    for epsilon in list(config.epsilon[0]):\n",
    "        assets = AttackVerificationModel.attack_fixed_sliced_dataset(\n",
    "            latest_model=latest_model,\n",
    "            ds=ts_ds,\n",
    "            attack_type=attack_type,\n",
    "            epsilon=epsilon,\n",
    "            total=totals[\"veri-fixed\"],\n",
    "        )\n",
    "        save_npz(assets, save_dir=config.result_path)"
   ]
  },
  {
   "cell_type": "code",
   "execution_count": null,
   "id": "b4025e72-0e9c-4345-9334-151de9002a8f",
   "metadata": {},
   "outputs": [],
   "source": [
    "%%time\n",
    "for attack_type in list(config.attack_type[1]):\n",
    "    for epsilon in list(config.epsilon[1]):\n",
    "        assets = AttackVerificationModel.attack_fixed_sliced_dataset(\n",
    "            latest_model=latest_model,\n",
    "            ds=ts_ds,\n",
    "            attack_type=attack_type,\n",
    "            epsilon=epsilon,\n",
    "            total=totals[\"veri-fixed\"],\n",
    "        )\n",
    "        save_npz(assets, save_dir=config.result_path)"
   ]
  },
  {
   "cell_type": "code",
   "execution_count": null,
   "id": "85ae9629-bb4c-456d-b51a-c0819d8c26d8",
   "metadata": {},
   "outputs": [],
   "source": [
    "%%time\n",
    "for attack_type in list(config.attack_type[2]):\n",
    "    for epsilon in list(config.epsilon[0]):\n",
    "        assets = AttackVerificationModel.attack_fixed_sliced_dataset(\n",
    "            latest_model=latest_model,\n",
    "            ds=ts_ds,\n",
    "            attack_type=attack_type,\n",
    "            epsilon=epsilon,\n",
    "            total=totals[\"veri-fixed\"],\n",
    "        )\n",
    "        save_npz(assets, save_dir=config.result_path)"
   ]
  },
  {
   "cell_type": "markdown",
   "id": "2af821f1-7c45-4c1b-afe8-2bcea21949bd",
   "metadata": {},
   "source": [
    "# **Performance Evaluate**"
   ]
  },
  {
   "cell_type": "markdown",
   "id": "47099159-e13e-4e48-8317-b5cbd20590f6",
   "metadata": {},
   "source": [
    "## **Identification**"
   ]
  },
  {
   "cell_type": "markdown",
   "id": "0ba67218-ae8e-4ee3-8ce8-9ff4fd12e395",
   "metadata": {},
   "source": [
    "### **Random Sliced**"
   ]
  },
  {
   "cell_type": "code",
   "execution_count": 34,
   "id": "fad596a0-6b9e-4400-b703-8705018390c9",
   "metadata": {},
   "outputs": [],
   "source": [
    "assets = load_npz(config.result_path, 'iden', 'random', None, None)\n",
    "for attack_type in config.attack_type:\n",
    "    for epsilon in config.epsilon:\n",
    "        assets.update(load_npz(config.result_path, 'iden', 'random', attack_type, epsilon))"
   ]
  },
  {
   "cell_type": "code",
   "execution_count": 38,
   "id": "20ff9f16-a269-4dcb-9bfe-87b63ea1a0fb",
   "metadata": {},
   "outputs": [
    {
     "name": "stdout",
     "output_type": "stream",
     "text": [
      "[result/iden-random-None-None.npz]  Top-1 accuracy: 0.7380, Top-5 accuracy: 0.8960\n",
      "[result/iden-random-fgm-0.001.npz]  Top-1 accuracy: 0.4704, Top-5 accuracy: 0.7071\n",
      "[result/iden-random-fgm-0.01.npz]   Top-1 accuracy: 0.1515, Top-5 accuracy: 0.3237\n",
      "[result/iden-random-fgm-0.1.npz]    Top-1 accuracy: 0.0093, Top-5 accuracy: 0.0328\n",
      "[result/iden-random-pgd-0.001.npz]  Top-1 accuracy: 0.0168, Top-5 accuracy: 0.0384\n",
      "[result/iden-random-pgd-0.01.npz]   Top-1 accuracy: 0.0000, Top-5 accuracy: 0.0001\n",
      "[result/iden-random-pgd-0.1.npz]    Top-1 accuracy: 0.0000, Top-5 accuracy: 0.0000\n"
     ]
    }
   ],
   "source": [
    "for file_name, asset in assets.items():\n",
    "    result = EvaluateIdentificationModel.CMC(asset[\"y_true\"], asset[\"y_pred\"])\n",
    "    print(f\"{'[' + str(file_name) + ']':<35} Top-1 accuracy: {result[0]:.4f}, Top-5 accuracy: {result[4]:.4f}\")"
   ]
  },
  {
   "cell_type": "markdown",
   "id": "48d86131-d934-488c-a6dc-a12240e0bbda",
   "metadata": {},
   "source": [
    "### **Fixed Sliced**"
   ]
  },
  {
   "cell_type": "code",
   "execution_count": 39,
   "id": "41fe235f-5b98-45b4-9ccc-e879f86c6c63",
   "metadata": {},
   "outputs": [],
   "source": [
    "assets = load_npz(config.result_path, 'iden', 'fixed', None, None)\n",
    "for attack_type in config.attack_type:\n",
    "    for epsilon in config.epsilon:\n",
    "        assets.update(load_npz(config.result_path, 'iden', 'fixed', attack_type, epsilon))"
   ]
  },
  {
   "cell_type": "code",
   "execution_count": 40,
   "id": "6e575bf0-ab36-4472-9ff3-b5a607938d74",
   "metadata": {},
   "outputs": [
    {
     "name": "stdout",
     "output_type": "stream",
     "text": [
      "[result/iden-fixed-None-None.npz]   Top-1 accuracy: 0.8949, Top-5 accuracy: 0.9653\n",
      "[result/iden-fixed-fgm-0.001.npz]   Top-1 accuracy: 0.7587, Top-5 accuracy: 0.9120\n",
      "[result/iden-fixed-fgm-0.01.npz]    Top-1 accuracy: 0.2928, Top-5 accuracy: 0.5121\n",
      "[result/iden-fixed-fgm-0.1.npz]     Top-1 accuracy: 0.0133, Top-5 accuracy: 0.0436\n",
      "[result/iden-fixed-pgd-0.001.npz]   Top-1 accuracy: 0.0551, Top-5 accuracy: 0.0940\n",
      "[result/iden-fixed-pgd-0.01.npz]    Top-1 accuracy: 0.0000, Top-5 accuracy: 0.0000\n",
      "[result/iden-fixed-pgd-0.1.npz]     Top-1 accuracy: 0.0000, Top-5 accuracy: 0.0000\n"
     ]
    }
   ],
   "source": [
    "for file_name, asset in assets.items():\n",
    "    result = EvaluateIdentificationModel.CMC(asset[\"y_true\"], asset[\"y_pred\"])\n",
    "    print(f\"{'[' + str(file_name) + ']':<35} Top-1 accuracy: {result[0]:.4f}, Top-5 accuracy: {result[4]:.4f}\")"
   ]
  },
  {
   "cell_type": "markdown",
   "id": "d5eb81bf-3c5c-43e3-b7ce-f61d050a06bb",
   "metadata": {},
   "source": [
    "## **Verification**"
   ]
  },
  {
   "cell_type": "markdown",
   "id": "569f49fc-49bd-40dd-8353-f3df9832f971",
   "metadata": {},
   "source": [
    "### **Random Sliced**"
   ]
  },
  {
   "cell_type": "code",
   "execution_count": 41,
   "id": "a73576e4-3188-4295-82b9-9b3b375e1e91",
   "metadata": {},
   "outputs": [],
   "source": [
    "assets = load_npz(config.result_path, 'veri', 'random', None, None)\n",
    "for attack_type in config.attack_type:\n",
    "    for epsilon in config.epsilon:\n",
    "        assets.update(load_npz(config.result_path, 'veri', 'random', attack_type, epsilon))"
   ]
  },
  {
   "cell_type": "code",
   "execution_count": 42,
   "id": "2aa9b3b4-788d-4c0a-8ec2-bd7d1c7fa023",
   "metadata": {},
   "outputs": [
    {
     "name": "stdout",
     "output_type": "stream",
     "text": [
      "[result/veri-random-None-None.npz]  EER: 12.52, AUROC: 0.9484, minDCF: 0.6477\n",
      "[result/veri-random-fgm-0.001.npz]  EER: 17.60, AUROC: 0.9052, minDCF: 0.8227\n",
      "[result/veri-random-fgm-0.01.npz]   EER: 26.51, AUROC: 0.8140, minDCF: 0.9600\n",
      "[result/veri-random-fgm-0.1.npz]    EER: 41.50, AUROC: 0.6180, minDCF: 0.9984\n",
      "[result/veri-random-pgd-0.001.npz]  EER: 53.46, AUROC: 0.4545, minDCF: 0.9991\n",
      "[result/veri-random-pgd-0.01.npz]   EER: 65.37, AUROC: 0.2927, minDCF: 1.0000\n",
      "[result/veri-random-pgd-0.1.npz]    EER: 66.85, AUROC: 0.2705, minDCF: 1.0000\n"
     ]
    }
   ],
   "source": [
    "for file_name, asset in assets.items():\n",
    "    eer = EvaluateVerificationModel.EER(asset[\"y_true\"], asset[\"y_pred\"])\n",
    "    auroc = EvaluateVerificationModel.AUROC(asset[\"y_true\"], asset[\"y_pred\"])\n",
    "    mindcf = EvaluateVerificationModel.minDCF(asset[\"y_true\"], asset[\"y_pred\"])\n",
    "    print(f\"{'[' + str(file_name) + ']':<35} EER: {eer:.2f}, AUROC: {auroc:.4f}, minDCF: {mindcf:.4f}\")"
   ]
  },
  {
   "cell_type": "markdown",
   "id": "d951359b-9832-4df5-83c4-a7951bc76e85",
   "metadata": {},
   "source": [
    "### **Fixed Sliced**"
   ]
  },
  {
   "cell_type": "code",
   "execution_count": 43,
   "id": "8702b6dd-e7fb-4778-9c7d-04ec7cf63b49",
   "metadata": {},
   "outputs": [],
   "source": [
    "assets = load_npz(config.result_path, 'veri', 'fixed', None, None)\n",
    "for attack_type in config.attack_type:\n",
    "    for epsilon in config.epsilon:\n",
    "        assets.update(load_npz(config.result_path, 'veri', 'fixed', attack_type, epsilon))"
   ]
  },
  {
   "cell_type": "code",
   "execution_count": 44,
   "id": "478ec30f-bb88-458b-9f16-afe94bdb14d0",
   "metadata": {},
   "outputs": [
    {
     "name": "stdout",
     "output_type": "stream",
     "text": [
      "[result/veri-fixed-None-None.npz]   EER: 6.55, AUROC: 0.9835, minDCF: 0.3974\n",
      "[result/veri-fixed-fgm-0.001.npz]   EER: 8.93, AUROC: 0.9708, minDCF: 0.5302\n",
      "[result/veri-fixed-fgm-0.01.npz]    EER: 18.11, AUROC: 0.8995, minDCF: 0.8161\n",
      "[result/veri-fixed-fgm-0.1.npz]     EER: 37.61, AUROC: 0.6694, minDCF: 0.9987\n",
      "[result/veri-fixed-pgd-0.001.npz]   EER: 58.78, AUROC: 0.3950, minDCF: 0.9937\n",
      "[result/veri-fixed-pgd-0.01.npz]    EER: 80.59, AUROC: 0.1150, minDCF: 1.0000\n",
      "[result/veri-fixed-pgd-0.1.npz]     EER: 82.89, AUROC: 0.0947, minDCF: 1.0000\n"
     ]
    }
   ],
   "source": [
    "for file_name, asset in assets.items():\n",
    "    eer = EvaluateVerificationModel.EER(asset[\"y_true\"], asset[\"y_pred\"])\n",
    "    auroc = EvaluateVerificationModel.AUROC(asset[\"y_true\"], asset[\"y_pred\"])\n",
    "    mindcf = EvaluateVerificationModel.minDCF(asset[\"y_true\"], asset[\"y_pred\"])\n",
    "    print(f\"{'[' + str(file_name) + ']':<35} EER: {eer:.2f}, AUROC: {auroc:.4f}, minDCF: {mindcf:.4f}\")"
   ]
  },
  {
   "cell_type": "code",
   "execution_count": null,
   "id": "b29501c1-f47e-46f1-a7b2-c1fbd06030b5",
   "metadata": {},
   "outputs": [],
   "source": []
  }
 ],
 "metadata": {
  "kernelspec": {
   "display_name": "venv",
   "language": "python",
   "name": "venv"
  },
  "language_info": {
   "codemirror_mode": {
    "name": "ipython",
    "version": 3
   },
   "file_extension": ".py",
   "mimetype": "text/x-python",
   "name": "python",
   "nbconvert_exporter": "python",
   "pygments_lexer": "ipython3",
   "version": "3.8.8"
  }
 },
 "nbformat": 4,
 "nbformat_minor": 5
}
